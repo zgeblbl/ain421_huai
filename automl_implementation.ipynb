{
 "cells": [
  {
   "cell_type": "code",
   "execution_count": 13,
   "metadata": {},
   "outputs": [],
   "source": [
    "#pip install tpot scikit-fuzzy scikit-learn pandas numpy"
   ]
  },
  {
   "cell_type": "code",
   "execution_count": 14,
   "metadata": {},
   "outputs": [],
   "source": [
    "from tpot import TPOTClassifier\n",
    "import numpy as np\n",
    "import pandas as pd\n",
    "import skfuzzy as fuzz\n",
    "from sklearn.model_selection import train_test_split"
   ]
  },
  {
   "cell_type": "code",
   "execution_count": 15,
   "metadata": {},
   "outputs": [],
   "source": [
    "selected_data = pd.read_csv('selected_data.csv')"
   ]
  },
  {
   "cell_type": "code",
   "execution_count": 16,
   "metadata": {},
   "outputs": [
    {
     "data": {
      "text/html": [
       "<div>\n",
       "<style scoped>\n",
       "    .dataframe tbody tr th:only-of-type {\n",
       "        vertical-align: middle;\n",
       "    }\n",
       "\n",
       "    .dataframe tbody tr th {\n",
       "        vertical-align: top;\n",
       "    }\n",
       "\n",
       "    .dataframe thead th {\n",
       "        text-align: right;\n",
       "    }\n",
       "</style>\n",
       "<table border=\"1\" class=\"dataframe\">\n",
       "  <thead>\n",
       "    <tr style=\"text-align: right;\">\n",
       "      <th></th>\n",
       "      <th>sepsis_icd</th>\n",
       "      <th>resp</th>\n",
       "      <th>heart_rate</th>\n",
       "      <th>ph</th>\n",
       "      <th>bp_systolic</th>\n",
       "      <th>bicarbonate</th>\n",
       "    </tr>\n",
       "  </thead>\n",
       "  <tbody>\n",
       "    <tr>\n",
       "      <th>0</th>\n",
       "      <td>0</td>\n",
       "      <td>17.521739</td>\n",
       "      <td>95.043478</td>\n",
       "      <td>7.371304</td>\n",
       "      <td>100.217391</td>\n",
       "      <td>21.809524</td>\n",
       "    </tr>\n",
       "    <tr>\n",
       "      <th>1</th>\n",
       "      <td>0</td>\n",
       "      <td>17.000000</td>\n",
       "      <td>71.695652</td>\n",
       "      <td>7.371304</td>\n",
       "      <td>121.652174</td>\n",
       "      <td>25.217391</td>\n",
       "    </tr>\n",
       "    <tr>\n",
       "      <th>2</th>\n",
       "      <td>1</td>\n",
       "      <td>27.761905</td>\n",
       "      <td>100.000000</td>\n",
       "      <td>7.371304</td>\n",
       "      <td>104.380952</td>\n",
       "      <td>17.000000</td>\n",
       "    </tr>\n",
       "    <tr>\n",
       "      <th>3</th>\n",
       "      <td>0</td>\n",
       "      <td>29.695652</td>\n",
       "      <td>79.652174</td>\n",
       "      <td>7.360000</td>\n",
       "      <td>105.782609</td>\n",
       "      <td>19.000000</td>\n",
       "    </tr>\n",
       "    <tr>\n",
       "      <th>4</th>\n",
       "      <td>1</td>\n",
       "      <td>14.875000</td>\n",
       "      <td>94.166667</td>\n",
       "      <td>7.456667</td>\n",
       "      <td>113.208333</td>\n",
       "      <td>27.000000</td>\n",
       "    </tr>\n",
       "    <tr>\n",
       "      <th>...</th>\n",
       "      <td>...</td>\n",
       "      <td>...</td>\n",
       "      <td>...</td>\n",
       "      <td>...</td>\n",
       "      <td>...</td>\n",
       "      <td>...</td>\n",
       "    </tr>\n",
       "    <tr>\n",
       "      <th>1495</th>\n",
       "      <td>0</td>\n",
       "      <td>15.875000</td>\n",
       "      <td>62.625000</td>\n",
       "      <td>7.371304</td>\n",
       "      <td>125.416667</td>\n",
       "      <td>29.000000</td>\n",
       "    </tr>\n",
       "    <tr>\n",
       "      <th>1496</th>\n",
       "      <td>0</td>\n",
       "      <td>21.416667</td>\n",
       "      <td>87.875000</td>\n",
       "      <td>7.371304</td>\n",
       "      <td>113.625000</td>\n",
       "      <td>32.250000</td>\n",
       "    </tr>\n",
       "    <tr>\n",
       "      <th>1497</th>\n",
       "      <td>0</td>\n",
       "      <td>23.095238</td>\n",
       "      <td>81.409091</td>\n",
       "      <td>7.371304</td>\n",
       "      <td>132.523810</td>\n",
       "      <td>34.000000</td>\n",
       "    </tr>\n",
       "    <tr>\n",
       "      <th>1498</th>\n",
       "      <td>1</td>\n",
       "      <td>27.869565</td>\n",
       "      <td>112.347826</td>\n",
       "      <td>7.479545</td>\n",
       "      <td>126.454545</td>\n",
       "      <td>27.173913</td>\n",
       "    </tr>\n",
       "    <tr>\n",
       "      <th>1499</th>\n",
       "      <td>0</td>\n",
       "      <td>22.666667</td>\n",
       "      <td>83.583333</td>\n",
       "      <td>7.371304</td>\n",
       "      <td>111.583333</td>\n",
       "      <td>21.000000</td>\n",
       "    </tr>\n",
       "  </tbody>\n",
       "</table>\n",
       "<p>1500 rows × 6 columns</p>\n",
       "</div>"
      ],
      "text/plain": [
       "      sepsis_icd       resp  heart_rate        ph  bp_systolic  bicarbonate\n",
       "0              0  17.521739   95.043478  7.371304   100.217391    21.809524\n",
       "1              0  17.000000   71.695652  7.371304   121.652174    25.217391\n",
       "2              1  27.761905  100.000000  7.371304   104.380952    17.000000\n",
       "3              0  29.695652   79.652174  7.360000   105.782609    19.000000\n",
       "4              1  14.875000   94.166667  7.456667   113.208333    27.000000\n",
       "...          ...        ...         ...       ...          ...          ...\n",
       "1495           0  15.875000   62.625000  7.371304   125.416667    29.000000\n",
       "1496           0  21.416667   87.875000  7.371304   113.625000    32.250000\n",
       "1497           0  23.095238   81.409091  7.371304   132.523810    34.000000\n",
       "1498           1  27.869565  112.347826  7.479545   126.454545    27.173913\n",
       "1499           0  22.666667   83.583333  7.371304   111.583333    21.000000\n",
       "\n",
       "[1500 rows x 6 columns]"
      ]
     },
     "execution_count": 16,
     "metadata": {},
     "output_type": "execute_result"
    }
   ],
   "source": [
    "selected_data"
   ]
  },
  {
   "cell_type": "code",
   "execution_count": 17,
   "metadata": {},
   "outputs": [],
   "source": [
    "data = selected_data\n",
    "X = data.drop(columns=[\"sepsis_icd\"])\n",
    "y = data[\"sepsis_icd\"]"
   ]
  },
  {
   "cell_type": "code",
   "execution_count": 18,
   "metadata": {},
   "outputs": [],
   "source": [
    "def create_membership_functions(variable_range, percentiles=(33, 50, 67)):\n",
    "    low = fuzz.trimf(variable_range, [variable_range.min(), variable_range.min(), np.percentile(variable_range, percentiles[0])])\n",
    "    medium = fuzz.trimf(variable_range, [variable_range.min(), np.percentile(variable_range, percentiles[1]), variable_range.max()])\n",
    "    high = fuzz.trimf(variable_range, [np.percentile(variable_range, percentiles[2]), variable_range.max(), variable_range.max()])\n",
    "    return low, medium, high\n",
    "\n",
    "def calculate_membership_degrees(row, ranges, memberships, columns):\n",
    "    degrees = []\n",
    "    for col, var_range, (low, medium, high) in zip(columns, ranges, memberships):\n",
    "        degrees.extend([\n",
    "            fuzz.interp_membership(var_range, low, row[col]),\n",
    "            fuzz.interp_membership(var_range, medium, row[col]),\n",
    "            fuzz.interp_membership(var_range, high, row[col]),\n",
    "        ])\n",
    "    return degrees\n",
    "\n",
    "def apply_fuzzy_logic(df, columns):\n",
    "\n",
    "    ranges = [np.arange(df[col].min(), df[col].max(), 0.1 if col != \"ph\" else 0.01) for col in columns]\n",
    "    memberships = [create_membership_functions(var_range) for var_range in ranges]\n",
    "    \n",
    "    fuzzy_features = df.apply(\n",
    "        calculate_membership_degrees, axis=1, ranges=ranges, memberships=memberships, columns=columns\n",
    "    )\n",
    "    fuzzy_array = np.array(fuzzy_features.tolist())\n",
    "    \n",
    "    fuzzy_column_names = [f\"{col}_{level}\" for col in columns for level in [\"low\", \"medium\", \"high\"]]\n",
    "    fuzzy_df = pd.DataFrame(fuzzy_array, columns=fuzzy_column_names)\n",
    "    \n",
    "    return fuzzy_df"
   ]
  },
  {
   "cell_type": "code",
   "execution_count": 19,
   "metadata": {},
   "outputs": [],
   "source": [
    "def apply_mamdani_rules(fuzzy_features):\n",
    "    resp_low, resp_medium, resp_high, hr_low, hr_medium, hr_high, ph_low, ph_medium, ph_high, \\\n",
    "    bp_systolic_low, bp_systolic_medium, bp_systolic_high, bicarbonate_low, bicarbonate_medium, bicarbonate_high = fuzzy_features\n",
    "\n",
    "    rule_1 = min(resp_high, hr_high)\n",
    "    rule_2 = min(resp_medium, hr_medium) \n",
    "    rule_3 = min(resp_low, hr_low)\n",
    "    rule_4 = min(ph_low, bp_systolic_low)\n",
    "    rule_5 = min(bicarbonate_low, bp_systolic_high)\n",
    "    rule_6 = min(ph_medium, hr_medium)\n",
    "    rule_7 = min(ph_high, bicarbonate_high)\n",
    "    \n",
    "    aggregated_output = max(rule_1, rule_2, rule_3, rule_4, rule_5, rule_6, rule_7)\n",
    "    \n",
    "    if aggregated_output == 0:\n",
    "        return 0\n",
    "    else:\n",
    "        output_range = np.arange(0, 1.1, 0.1)\n",
    "        crisp_output = fuzz.defuzz(output_range, np.full_like(output_range, aggregated_output), 'centroid')\n",
    "        return crisp_output"
   ]
  },
  {
   "cell_type": "code",
   "execution_count": 20,
   "metadata": {},
   "outputs": [
    {
     "name": "stdout",
     "output_type": "stream",
     "text": [
      "is_classifier\n",
      "is_regressor\n",
      "is_classifier\n",
      "is_regressor\n",
      "is_classifier\n",
      "is_regressor\n",
      "is_classifier\n",
      "is_classifier\n",
      "is_classifier\n",
      "is_classifier\n",
      "is_regressor\n",
      "is_classifier\n"
     ]
    },
    {
     "name": "stderr",
     "output_type": "stream",
     "text": [
      "C:\\Users\\zgebl\\AppData\\Local\\Packages\\PythonSoftwareFoundation.Python.3.9_qbz5n2kfra8p0\\LocalCache\\local-packages\\Python39\\site-packages\\sklearn\\base.py:1230: FutureWarning: passing a class to None is deprecated and will be removed in 1.8. Use an instance of the class instead.\n",
      "  warnings.warn(\n",
      "C:\\Users\\zgebl\\AppData\\Local\\Packages\\PythonSoftwareFoundation.Python.3.9_qbz5n2kfra8p0\\LocalCache\\local-packages\\Python39\\site-packages\\sklearn\\base.py:1270: FutureWarning: passing a class to None is deprecated and will be removed in 1.8. Use an instance of the class instead.\n",
      "  warnings.warn(\n"
     ]
    },
    {
     "name": "stdout",
     "output_type": "stream",
     "text": [
      "is_regressor\n",
      "is_classifier\n",
      "is_regressor\n",
      "is_classifier\n",
      "is_regressor\n",
      "is_classifier\n",
      "is_regressor\n",
      "is_classifier\n",
      "is_regressor\n",
      "is_classifier\n",
      "is_regressor\n",
      "is_classifier\n",
      "is_classifier\n",
      "is_classifier\n",
      "is_classifier\n",
      "is_classifier\n",
      "is_classifier\n",
      "is_classifier\n",
      "is_classifier\n",
      "is_regressor\n",
      "is_classifier\n",
      "is_regressor\n",
      "is_classifier\n",
      "is_regressor\n",
      "is_classifier\n",
      "is_regressor\n",
      "is_classifier\n",
      "is_regressor\n",
      "is_classifier\n",
      "is_regressor\n",
      "is_classifier\n",
      "is_regressor\n",
      "is_classifier\n",
      "is_classifier\n",
      "is_classifier\n",
      "is_regressor\n",
      "is_classifier\n",
      "is_regressor\n",
      "is_classifier\n"
     ]
    },
    {
     "data": {
      "application/vnd.jupyter.widget-view+json": {
       "model_id": "29e1016223df4e63a7663ed2490dd8e0",
       "version_major": 2,
       "version_minor": 0
      },
      "text/plain": [
       "Optimization Progress:   0%|          | 0/300 [00:00<?, ?pipeline/s]"
      ]
     },
     "metadata": {},
     "output_type": "display_data"
    },
    {
     "name": "stdout",
     "output_type": "stream",
     "text": [
      "\n",
      "Generation 1 - Current best internal CV score: 0.7275\n",
      "\n",
      "Generation 2 - Current best internal CV score: 0.7275\n",
      "\n",
      "Generation 3 - Current best internal CV score: 0.7275\n",
      "\n",
      "Generation 4 - Current best internal CV score: 0.7275\n",
      "\n",
      "Generation 5 - Current best internal CV score: 0.73\n",
      "\n",
      "Best pipeline: ExtraTreesClassifier(MLPClassifier(input_matrix, alpha=0.01, learning_rate_init=0.1), bootstrap=False, criterion=entropy, max_features=0.25, min_samples_leaf=7, min_samples_split=15, n_estimators=100)\n",
      "TPOT Accuracy: 0.6766666666666666\n"
     ]
    },
    {
     "name": "stderr",
     "output_type": "stream",
     "text": [
      "C:\\Users\\zgebl\\AppData\\Local\\Packages\\PythonSoftwareFoundation.Python.3.9_qbz5n2kfra8p0\\LocalCache\\local-packages\\Python39\\site-packages\\sklearn\\utils\\validation.py:2739: UserWarning: X does not have valid feature names, but MLPClassifier was fitted with feature names\n",
      "  warnings.warn(\n",
      "C:\\Users\\zgebl\\AppData\\Local\\Packages\\PythonSoftwareFoundation.Python.3.9_qbz5n2kfra8p0\\LocalCache\\local-packages\\Python39\\site-packages\\sklearn\\utils\\validation.py:2739: UserWarning: X does not have valid feature names, but MLPClassifier was fitted with feature names\n",
      "  warnings.warn(\n"
     ]
    }
   ],
   "source": [
    "columns_to_transform = [\"resp\", \"heart_rate\", \"ph\", \"bp_systolic\", \"bicarbonate\"]\n",
    "fuzzy_X = apply_fuzzy_logic(X, columns_to_transform)\n",
    "fuzzy_X['mamdani_output'] = fuzzy_X.apply(lambda row: apply_mamdani_rules(row), axis=1)\n",
    "\n",
    "combined_X = pd.concat([X, fuzzy_X], axis=1)\n",
    "\n",
    "X_train, X_test, y_train, y_test = train_test_split(combined_X, y, test_size=0.2, random_state=42)\n",
    "\n",
    "tpot = TPOTClassifier(generations=5, population_size=50, verbosity=2, random_state=42)\n",
    "tpot.fit(X_train, y_train)\n",
    "\n",
    "accuracy = tpot.score(X_test, y_test)\n",
    "print(f\"TPOT Accuracy: {accuracy}\")"
   ]
  },
  {
   "cell_type": "code",
   "execution_count": 21,
   "metadata": {},
   "outputs": [],
   "source": [
    "tpot.export('best_pipeline.py')"
   ]
  }
 ],
 "metadata": {
  "kernelspec": {
   "display_name": "Python 3",
   "language": "python",
   "name": "python3"
  },
  "language_info": {
   "codemirror_mode": {
    "name": "ipython",
    "version": 3
   },
   "file_extension": ".py",
   "mimetype": "text/x-python",
   "name": "python",
   "nbconvert_exporter": "python",
   "pygments_lexer": "ipython3",
   "version": "3.9.13"
  }
 },
 "nbformat": 4,
 "nbformat_minor": 2
}
